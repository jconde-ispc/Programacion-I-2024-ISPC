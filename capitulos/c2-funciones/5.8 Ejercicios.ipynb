{
 "cells": [
  {
   "cell_type": "markdown",
   "metadata": {},
   "source": [
    "<font color=Green>\n",
    "    \n",
    "# **5.8 Ejercicios**\n",
    "\n",
    "</font>\n",
    "\n",
    "### 1) Realiza una función llamada area_rectangulo() que devuelva el área de un rectángulo a partir de una base y una altura. Calcula el área de un rectángulo de 15 de base y 10 de altura"
   ]
  },
  {
   "cell_type": "code",
   "execution_count": 1,
   "metadata": {},
   "outputs": [
    {
     "name": "stdout",
     "output_type": "stream",
     "text": [
      "150\n"
     ]
    }
   ],
   "source": [
    "def area_rectangulo(base, altura):\n",
    "    return base * altura\n",
    "\n",
    "print(area_rectangulo(15,10))"
   ]
  },
  {
   "cell_type": "markdown",
   "metadata": {},
   "source": [
    "### 2) Realiza una función llamada área_círculo() que devuelva el área de un círculo a partir de un radio. Calcula el área de un círculo de 5 ancho\n",
    "\n",
    "<font color=#003d5c>\n",
    "    \n",
    ">  PROTIP: Utiliza el módulo math con la línea _import math_\n",
    "</font>"
   ]
  },
  {
   "cell_type": "code",
   "execution_count": 2,
   "metadata": {},
   "outputs": [
    {
     "name": "stdout",
     "output_type": "stream",
     "text": [
      "19.634954084936208\n"
     ]
    }
   ],
   "source": [
    "import math\n",
    "\n",
    "\n",
    "def area_circulo(radio):\n",
    "    return (radio**2) * math.pi\n",
    "\n",
    "print(area_circulo(2.5))"
   ]
  },
  {
   "cell_type": "markdown",
   "metadata": {},
   "source": [
    "### 3) Realiza una función llamada relacion() que a partir de dos numeros cumpla lo siguiente:\n",
    "+ ### Si el primer número es mayor que el segundo, debe devolver 1\n",
    "+ ### Si el primer número es menor que el segundo, debe devolver -1\n",
    "+ ### Si ambos números son iguales, debe devolver 0"
   ]
  },
  {
   "cell_type": "code",
   "execution_count": 3,
   "metadata": {},
   "outputs": [
    {
     "name": "stdout",
     "output_type": "stream",
     "text": [
      "-1\n",
      "1\n",
      "0\n"
     ]
    }
   ],
   "source": [
    "def relacion(a,b):\n",
    "    if a > b:\n",
    "        return 1\n",
    "    elif a < b:\n",
    "        return -1\n",
    "    else:\n",
    "        return 0\n",
    "    \n",
    "print(relacion(5,10))\n",
    "print(relacion(10,5))\n",
    "print(relacion(5,5))"
   ]
  },
  {
   "cell_type": "markdown",
   "metadata": {},
   "source": [
    "### 4) Realiza una funcion llamada intermedio() que a partir de dos puntos, devuelva su punto intermedio.\n",
    "\n",
    "\n",
    "<font color=#003d5c>\n",
    "    \n",
    ">  PROTIP: El número intermedio corresponde a la suma de los dos puntos entre dos.\n",
    "\n",
    "</font>"
   ]
  },
  {
   "cell_type": "code",
   "execution_count": 4,
   "metadata": {},
   "outputs": [
    {
     "data": {
      "text/plain": [
       "18.0"
      ]
     },
     "execution_count": 4,
     "metadata": {},
     "output_type": "execute_result"
    }
   ],
   "source": [
    "def intermedio(a,b):\n",
    "    return (a+b)/2\n",
    "\n",
    "intermedio(6,30)"
   ]
  },
  {
   "cell_type": "markdown",
   "metadata": {},
   "source": [
    "### 5) Realiza una función llamada recortar() que reciba 3 parámetros. El primero es el número a recortar, el segundo es el límite inferior y el tercero el límite superior. La función tendrá que cumplir lo siguiente.\n",
    "\n",
    "+ ### Devolver el límite inferior si el número es menor que éste\n",
    "+ ### Devolver el límite superior si el número es mayor que éste\n",
    "+ ### Devolver el número sin cambios si no se supera ningún límite."
   ]
  },
  {
   "cell_type": "code",
   "execution_count": 5,
   "metadata": {},
   "outputs": [
    {
     "name": "stdout",
     "output_type": "stream",
     "text": [
      "10\n"
     ]
    }
   ],
   "source": [
    "def recortar(num, minimo, maximo):\n",
    "    if num < minimo:\n",
    "        return minimo\n",
    "    elif num > maximo:\n",
    "        return maximo\n",
    "    return num\n",
    "\n",
    "print(recortar(15,0,10))"
   ]
  },
  {
   "cell_type": "markdown",
   "metadata": {},
   "source": [
    "### 6) Realiza una función separar() que tome una lista de números enteros y devuelva dos listas ordenadas: la primera con los números pares y la segunda con los números impares:\n",
    "\n",
    "### Ejemplo: \n",
    "+ pares, impares = separar([1,2,4,5,7,8])\n",
    "+ print(pares) = [2,4,8]\n",
    "+ print(impares) = [1,5,7]\n",
    "\n",
    "<font color=#003d5c>\n",
    "    \n",
    ">  PROTIP: para ordenar una lista utiliza el método sort()\n",
    "\n",
    "</font>"
   ]
  },
  {
   "cell_type": "code",
   "execution_count": 6,
   "metadata": {},
   "outputs": [
    {
     "data": {
      "text/plain": [
       "[1, 2, 3, 4, 5, 6, 7, 8, 9, 10]"
      ]
     },
     "execution_count": 6,
     "metadata": {},
     "output_type": "execute_result"
    }
   ],
   "source": [
    "numeros = [1,2,3,4,5,6,7,8,9,10]\n",
    "numeros"
   ]
  },
  {
   "cell_type": "code",
   "execution_count": 7,
   "metadata": {},
   "outputs": [
    {
     "name": "stdout",
     "output_type": "stream",
     "text": [
      "[2, 4, 6, 8, 10]\n",
      "[1, 3, 5, 7, 9]\n"
     ]
    }
   ],
   "source": [
    "def separar(lista):\n",
    "    lista.sort()\n",
    "    pares = []\n",
    "    impares = []\n",
    "    for n in lista:\n",
    "        if n%2 == 0:\n",
    "            pares.append(n)\n",
    "        else:\n",
    "            impares.append(n)\n",
    "    return pares, impares\n",
    "\n",
    "pares, impares = separar(numeros)\n",
    "print(pares)\n",
    "print(impares)"
   ]
  },
  {
   "cell_type": "code",
   "execution_count": null,
   "metadata": {},
   "outputs": [],
   "source": []
  }
 ],
 "metadata": {
  "kernelspec": {
   "display_name": "Python 3",
   "language": "python",
   "name": "python3"
  },
  "language_info": {
   "codemirror_mode": {
    "name": "ipython",
    "version": 3
   },
   "file_extension": ".py",
   "mimetype": "text/x-python",
   "name": "python",
   "nbconvert_exporter": "python",
   "pygments_lexer": "ipython3",
   "version": "3.10.6"
  }
 },
 "nbformat": 4,
 "nbformat_minor": 4
}
