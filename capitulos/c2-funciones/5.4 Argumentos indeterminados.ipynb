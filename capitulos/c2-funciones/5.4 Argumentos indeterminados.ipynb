{
 "cells": [
  {
   "cell_type": "markdown",
   "metadata": {},
   "source": [
    "<font color=Green>\n",
    "    \n",
    "# **5.4 Argumentos indeterminados**\n",
    "\n",
    "</font>"
   ]
  },
  {
   "cell_type": "code",
   "execution_count": null,
   "metadata": {},
   "outputs": [],
   "source": [
    "def argumentar(*args):\n",
    "    print(args)\n",
    "    \n",
    "argumentar(5,\"Johel Yun\",[0,1,2,3,4])\n"
   ]
  },
  {
   "cell_type": "code",
   "execution_count": null,
   "metadata": {},
   "outputs": [],
   "source": [
    "def argumentar(*args):\n",
    "    for elemento in args:\n",
    "        print(elemento)\n",
    "        \n",
    "argumentar(1,\"Victor Liliput\",[0,1,2,3,4])\n"
   ]
  },
  {
   "cell_type": "code",
   "execution_count": null,
   "metadata": {},
   "outputs": [],
   "source": [
    "def nombrar(**kwargs):\n",
    "    print(kwargs)\n",
    "    \n",
    "nombrar(id=5,nombre=\"Félix Feliciano\",notas=[10,10,20,3,4])"
   ]
  },
  {
   "cell_type": "code",
   "execution_count": null,
   "metadata": {},
   "outputs": [],
   "source": [
    "def nombrar(**kwargs):\n",
    "    for kwarg in kwargs:\n",
    "        print(kwarg)\n",
    "    \n",
    "nombrar(id=5,nombre=\"Félix Feliciano\",notas=[10,10,20,3,4])"
   ]
  },
  {
   "cell_type": "code",
   "execution_count": null,
   "metadata": {
    "scrolled": true
   },
   "outputs": [],
   "source": [
    "def nombrar(**kwargs):\n",
    "    for clave in kwargs:\n",
    "        print(clave, \" \", kwargs[clave])\n",
    "    \n",
    "nombrar(id=5,nombre=\"Félix Feliciano\",notas=[10,10,20,3,4])"
   ]
  },
  {
   "cell_type": "code",
   "execution_count": null,
   "metadata": {},
   "outputs": [],
   "source": [
    "def super_nominacion(*args, **kwargs):\n",
    "    suma = 0\n",
    "    for e in args:\n",
    "        suma += e\n",
    "    print(\"El promedio indeterminado es {}\".format(suma/len(args)))\n",
    "    for clave in kwargs:\n",
    "        print(clave, \"\\t\", kwargs[clave])\n",
    "        \n",
    "super_nominacion(10,10,20,3,4, id=5,nombre=\"Victor Liliput\", edad=27, notas=[10,10,20,3,4])"
   ]
  },
  {
   "cell_type": "code",
   "execution_count": null,
   "metadata": {},
   "outputs": [],
   "source": []
  }
 ],
 "metadata": {
  "kernelspec": {
   "display_name": "Python 3",
   "language": "python",
   "name": "python3"
  },
  "language_info": {
   "codemirror_mode": {
    "name": "ipython",
    "version": 3
   },
   "file_extension": ".py",
   "mimetype": "text/x-python",
   "name": "python",
   "nbconvert_exporter": "python",
   "pygments_lexer": "ipython3",
   "version": "3.7.6"
  }
 },
 "nbformat": 4,
 "nbformat_minor": 4
}
